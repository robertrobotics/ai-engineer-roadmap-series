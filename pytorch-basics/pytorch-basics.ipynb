{
 "cells": [
  {
   "cell_type": "markdown",
   "metadata": {},
   "source": [
    "# PyTorch - podstawy"
   ]
  },
  {
   "cell_type": "markdown",
   "metadata": {},
   "source": [
    "### Utworzenie środowiska wirtualnego i instalacja wymaganych modułów"
   ]
  },
  {
   "cell_type": "markdown",
   "metadata": {},
   "source": [
    "Otwórz Terminal w tym samym folderze, w którym znajduje się skrypt:\n",
    "- Utwórz środowisko wirtualne w folderze .env\n",
    "\n",
    "```python -m venv .env```\n",
    "- Aktywuj środowisko\n",
    "\n",
    "```.env\\Source\\activate```\n",
    "\n",
    "- Zaktualizuj PIP\n",
    "\n",
    "```python -m pip install --upgrade pip setuptools wheel```\n",
    "- Instaluj wymagane moduły\n",
    "\n",
    "```pip install torch torchvision --index-url https://download.pytorch.org/whl/cu126```\n",
    "\n",
    "- Pamiętaj o wybraniu odpowiedniego kernela (kernela z utworzonego .env) w Visual Studio Code!"
   ]
  },
  {
   "cell_type": "markdown",
   "metadata": {},
   "source": [
    "### Wykrycie i użycie odpowiedniego hardware'u"
   ]
  },
  {
   "cell_type": "code",
   "execution_count": 1,
   "metadata": {},
   "outputs": [
    {
     "name": "stdout",
     "output_type": "stream",
     "text": [
      "CUDA (NVIDIA): Dostępne ✅ (1 GPU)\n",
      "MPS (Apple Silicon): Brak ❌\n",
      "ROCm (AMD): Brak ❌\n",
      "CPU: Dostępne ✅\n"
     ]
    }
   ],
   "source": [
    "import torch\n",
    "import torch.backends.mps\n",
    "import importlib\n",
    "\n",
    "# Sprawdzenie dostępności CUDA (NVIDIA GPU)\n",
    "cuda_available = torch.cuda.is_available()\n",
    "\n",
    "# Sprawdzenie liczby dostępnych GPU\n",
    "cuda_device_count = torch.cuda.device_count() if cuda_available else 0\n",
    "\n",
    "# Sprawdzenie dostępności MPS (Apple Silicon - M1/M2/M3)\n",
    "mps_available = torch.backends.mps.is_available() if importlib.util.find_spec(\"torch.backends.mps\") else False\n",
    "\n",
    "# Sprawdzenie dostępności ROCm (AMD GPU)\n",
    "rocm_available = torch.cuda.is_available() and torch.version.hip is not None\n",
    "\n",
    "# Sprawdzenie CPU (PyTorch zawsze obsługuje CPU)\n",
    "cpu_available = True\n",
    "\n",
    "# Wyświetlenie wyników\n",
    "print(f\"CUDA (NVIDIA): {'Dostępne ✅' if cuda_available else 'Brak ❌'} ({cuda_device_count} GPU)\")\n",
    "print(f\"MPS (Apple Silicon): {'Dostępne ✅' if mps_available else 'Brak ❌'}\")\n",
    "print(f\"ROCm (AMD): {'Dostępne ✅' if rocm_available else 'Brak ❌'}\")\n",
    "print(f\"CPU: {'Dostępne ✅' if cpu_available else 'Brak ❌'}\")"
   ]
  },
  {
   "cell_type": "markdown",
   "metadata": {},
   "source": [
    "### Ustawienie zmiennej 'device' na wybrany hardware"
   ]
  },
  {
   "cell_type": "code",
   "execution_count": 2,
   "metadata": {},
   "outputs": [
    {
     "name": "stdout",
     "output_type": "stream",
     "text": [
      "Wybrane urządzenie: cuda ✅\n"
     ]
    }
   ],
   "source": [
    "device = 'cpu'\n",
    "if cuda_available:\n",
    "    device = 'cuda'\n",
    "elif mps_available:\n",
    "    device = 'mps'\n",
    "elif rocm_available:\n",
    "    device = 'rocm'\n",
    "\n",
    "print(f'Wybrane urządzenie: {device} ✅')"
   ]
  },
  {
   "cell_type": "markdown",
   "metadata": {},
   "source": [
    "### Operacje na tensorach"
   ]
  },
  {
   "cell_type": "code",
   "execution_count": 8,
   "metadata": {},
   "outputs": [
    {
     "name": "stdout",
     "output_type": "stream",
     "text": [
      "\n",
      "Dodawanie tensorów:\n",
      " tensor([[7, 7],\n",
      "        [7, 7],\n",
      "        [7, 7]])\n",
      "\n",
      "Mnożenie tensorów (element-wise):\n",
      " tensor([[ 6, 10],\n",
      "        [12, 12],\n",
      "        [10,  6]])\n",
      "\n",
      "Mnożenie macierzowe:\n",
      " tensor([[12,  9,  6],\n",
      "        [30, 23, 16],\n",
      "        [48, 37, 26]])\n",
      "\n",
      "Transpozycja macierzy:\n",
      " tensor([[1, 3, 5],\n",
      "        [2, 4, 6]])\n"
     ]
    }
   ],
   "source": [
    "import torch\n",
    "\n",
    "# Tensor z wartościami określonymi ręcznie\n",
    "x = torch.tensor([[1, 2], [3, 4], [5, 6]])\n",
    "y = torch.tensor([[6, 5], [4, 3], [2, 1]])\n",
    "z = torch.tensor([[6, 5, 4], [3, 2, 1]])\n",
    "\n",
    "# Dodawanie tensorów\n",
    "sum_result = x + y\n",
    "print(\"\\nDodawanie tensorów:\\n\", sum_result)\n",
    "\n",
    "# Mnożenie tensorów (element-wise)\n",
    "mul_result = x * y\n",
    "print(\"\\nMnożenie tensorów (element-wise):\\n\", mul_result)\n",
    "\n",
    "# Mnożenie macierzowe (dot product)\n",
    "dot_result = torch.matmul(x, z)\n",
    "print(\"\\nMnożenie macierzowe:\\n\", dot_result)\n",
    "\n",
    "# Transpozycja macierzy\n",
    "transpose_result = x.T\n",
    "print(\"\\nTranspozycja macierzy:\\n\", transpose_result)"
   ]
  },
  {
   "cell_type": "markdown",
   "metadata": {},
   "source": [
    "### Automatyczne różniczkowanie (autograd)"
   ]
  },
  {
   "cell_type": "code",
   "execution_count": null,
   "metadata": {},
   "outputs": [
    {
     "name": "stdout",
     "output_type": "stream",
     "text": [
      "tensor(7.)\n"
     ]
    }
   ],
   "source": [
    "import torch\n",
    "\n",
    "x = torch.tensor(2.0, requires_grad=True)\n",
    "y = x ** 2 + 3*x        # Funkcja kwadratowa y(x) = x^2 + 3x\n",
    "y.backward()            # Propagacja wsteczna, w tym liczenie gradientu\n",
    "print(x.grad)           # Pochodna funkcji dy/dx = 2x + 3 dla x = 2 dy/dx = 7"
   ]
  },
  {
   "cell_type": "code",
   "execution_count": null,
   "metadata": {},
   "outputs": [
    {
     "name": "stdout",
     "output_type": "stream",
     "text": [
      "Nowa wartość w: 4.96\n"
     ]
    }
   ],
   "source": [
    "import torch\n",
    "\n",
    "# Przykład aktualizacji wag modelu\n",
    "# Załóżmy, że parametr (jedna z wag) modelu w = 5\n",
    "w = torch.tensor(5.0, requires_grad=True)\n",
    "\n",
    "# Funkcja błędu (jak błąd zależy od wag modelu): Loss = (w - 3)^2\n",
    "loss = (w - 3) ** 2\n",
    "\n",
    "# Obliczenie gradientu (aby wiedzieć jak zmiana wag wpłynie na błąd)\n",
    "# dLoss/dw = 2*(w - 3) = 2*(5 - 3) = 4\n",
    "loss.backward()     # <-- Wystarczy jedno zawołanie funkcji\n",
    "\n",
    "# Aktualizacja parametru ręcznie (symulacja optymalizacji SGD)\n",
    "learning_rate = 0.01\n",
    "w.data -= learning_rate * w.grad    # 5 - 0.01 * 4 = 4.96\n",
    "\n",
    "# Wyzerowanie gradientu przed kolejną iteracją\n",
    "w.grad.zero_()\n",
    "\n",
    "print(f\"Nowa wartość w: {w:.2f}\")"
   ]
  },
  {
   "cell_type": "markdown",
   "metadata": {},
   "source": [
    "### Tworzenie modelu głębokiej sieci neuronowej"
   ]
  },
  {
   "cell_type": "code",
   "execution_count": 14,
   "metadata": {},
   "outputs": [
    {
     "name": "stdout",
     "output_type": "stream",
     "text": [
      "DenseNeuralNetwork(\n",
      "  (layer1): Linear(in_features=10, out_features=50, bias=True)\n",
      "  (relu): ReLU()\n",
      "  (layer2): Linear(in_features=50, out_features=1, bias=True)\n",
      ")\n"
     ]
    }
   ],
   "source": [
    "import torch.nn as nn\n",
    "\n",
    "class DenseNeuralNetwork(nn.Module):\n",
    "    def __init__(self):\n",
    "        super(DenseNeuralNetwork, self).__init__()\n",
    "        self.layer1 = nn.Linear(10, 50)\n",
    "        self.relu = nn.ReLU()\n",
    "        self.layer2 = nn.Linear(50, 1)\n",
    "\n",
    "    def forward(self, x):\n",
    "        x = self.layer1(x)\n",
    "        x = self.relu(x)\n",
    "        x = self.layer2(x)\n",
    "        return x\n",
    "\n",
    "model = DenseNeuralNetwork().to(device)\n",
    "print(model)"
   ]
  },
  {
   "cell_type": "markdown",
   "metadata": {},
   "source": [
    "### Tworzenie modelu głębokiej sieci neuronowej używając klasy **Sequential**"
   ]
  },
  {
   "cell_type": "code",
   "execution_count": 3,
   "metadata": {},
   "outputs": [],
   "source": [
    "import torch.nn as nn\n",
    "\n",
    "model = nn.Sequential(  # Warstwy sekwencyjne głębokiej sieci FCN, kolejno:\n",
    "    nn.Linear(10, 50),  # warstwa liniowa (10 wejść -> 50 neuronów),\n",
    "    nn.ReLU(),          # funkcja aktywacji 1-wszej warstwy,\n",
    "    nn.Linear(50, 1)    # warstwa końcowa (50 -> 1 neuronów).\n",
    ")"
   ]
  },
  {
   "cell_type": "markdown",
   "metadata": {},
   "source": [
    "### Trening zdefiniowanego modelu"
   ]
  },
  {
   "cell_type": "code",
   "execution_count": 4,
   "metadata": {},
   "outputs": [
    {
     "name": "stdout",
     "output_type": "stream",
     "text": [
      "Strata: 1.257\n"
     ]
    }
   ],
   "source": [
    "import torch.optim as optim\n",
    "\n",
    "# Optymalizator (Adam) i funkcja kosztu (MSE)\n",
    "optimizer = optim.Adam(model.parameters(), lr=0.001)\n",
    "loss_fn = nn.MSELoss()\n",
    "\n",
    "# Dane wejściowe i oczekiwane wyniki (zazwyczaj przygotowane wcześniej jako dane rzeczywiste lub syntetyczne)\n",
    "inputs = torch.randn(5, 10)  # 5 próbek po 10 cech każda\n",
    "targets = torch.randn(5, 1)  # Oczekiwane wyniki\n",
    "\n",
    "# Trening (1 epoka)\n",
    "for epoch in range(1):\n",
    "    optimizer.zero_grad()               # Zerowanie gradientów\n",
    "    outputs = model(inputs)             # Przewidywanie (inferencja)\n",
    "    loss = loss_fn(outputs, targets)    # Obliczenie błędu\n",
    "    loss.backward()                     # Propagacja wsteczna błędu \n",
    "    optimizer.step()                    # Aktualizacja wag\n",
    "\n",
    "    print(f\"Strata: {loss.item():.3f}\")"
   ]
  },
  {
   "cell_type": "markdown",
   "metadata": {},
   "source": [
    "### Definiowanie własnego zbioru danych do treningu sieci"
   ]
  },
  {
   "cell_type": "code",
   "execution_count": null,
   "metadata": {},
   "outputs": [],
   "source": [
    "import torch\n",
    "from torch.utils.data import Dataset, DataLoader\n",
    "\n",
    "# Przykładowy zbiór danych\n",
    "class CustomDataset(Dataset):\n",
    "    def __init__(self, size):\n",
    "        self.data = torch.randn(size, 10)           # 100 losowych próbek, każda ma 10 cech\n",
    "        self.labels = torch.randint(0, 2, (size,))  # Losowe etykiety 0 lub 1\n",
    "\n",
    "    def __len__(self):\n",
    "        return len(self.data)\n",
    "\n",
    "    def __getitem__(self, idx):\n",
    "        return self.data[idx], self.labels[idx]\n",
    "\n",
    "# Tworzymy instancję datasetu\n",
    "dataset = CustomDataset(size=1000)"
   ]
  },
  {
   "cell_type": "markdown",
   "metadata": {},
   "source": [
    "### Przygotowanie obiektu ładującego wcześniej przygotowane dane w postaci paczek (batch)"
   ]
  },
  {
   "cell_type": "code",
   "execution_count": null,
   "metadata": {},
   "outputs": [],
   "source": [
    "# DataLoader: batch_size=32, shuffle=True, 12 wątków (równolegle) do ładowania danych\n",
    "dataloader = DataLoader(dataset, batch_size=32, shuffle=True, num_workers=12)"
   ]
  },
  {
   "cell_type": "markdown",
   "metadata": {},
   "source": [
    "### Fine tuning (dostrajanie) istniejącego modelu"
   ]
  },
  {
   "cell_type": "code",
   "execution_count": null,
   "metadata": {},
   "outputs": [],
   "source": [
    "import torchvision.models as models\n",
    "\n",
    "# Pobranie modelu ResNet50 wstępnie wytrenowanego na zbiorze ImageNet\n",
    "model = models.resnet50(pretrained=True)\n",
    "\n",
    "# Zamrażanie wag modelu\n",
    "for param in model.parameters():\n",
    "    param.requires_grad = False\n",
    "\n",
    "# Zmiana ostatniej warstwy, aby model uczył się nowego zadania\n",
    "# na podstawie nowego zbioru danych (np. zdjęć różnych silników spalinowych)\n",
    "num_ftrs = model.fc.in_features     \n",
    "model.fc = nn.Linear(num_ftrs, 10)  # 10 klas, np. rozpoznawanie 10 typów silników spalinowych\n",
    "\n",
    "print(\"Gotowy do trenowania na nowych danych!\")\n",
    "\n",
    "# Dalej można realizować już standardowy trening głębokiego modelu\n",
    "# ..."
   ]
  }
 ],
 "metadata": {
  "kernelspec": {
   "display_name": ".env",
   "language": "python",
   "name": "python3"
  },
  "language_info": {
   "codemirror_mode": {
    "name": "ipython",
    "version": 3
   },
   "file_extension": ".py",
   "mimetype": "text/x-python",
   "name": "python",
   "nbconvert_exporter": "python",
   "pygments_lexer": "ipython3",
   "version": "3.10.11"
  }
 },
 "nbformat": 4,
 "nbformat_minor": 4
}
