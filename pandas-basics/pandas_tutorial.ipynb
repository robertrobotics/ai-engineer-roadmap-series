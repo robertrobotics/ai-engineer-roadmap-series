{
 "cells": [
  {
   "cell_type": "markdown",
   "metadata": {},
   "source": [
    "### Struktury Danych i Indeksowanie"
   ]
  },
  {
   "cell_type": "markdown",
   "metadata": {},
   "source": [
    "#### Series i DataFrame"
   ]
  },
  {
   "cell_type": "code",
   "execution_count": 42,
   "metadata": {},
   "outputs": [
    {
     "name": "stdout",
     "output_type": "stream",
     "text": [
      "10:00:01    10\n",
      "10:00:02    20\n",
      "10:00:03    30\n",
      "10:00:04    40\n",
      "dtype: int64\n",
      "Wybrany punkt serii: 30\n"
     ]
    }
   ],
   "source": [
    "# Series\n",
    "import pandas as pd\n",
    "\n",
    "dane = [10, 20, 30, 40]\n",
    "s = pd.Series(dane, index=['10:00:01', '10:00:02', '10:00:03', '10:00:04'])\n",
    "print(s)\n",
    "\n",
    "print(f'Wybrany punkt serii: {s['10:00:03'].item()}')"
   ]
  },
  {
   "cell_type": "code",
   "execution_count": 30,
   "metadata": {},
   "outputs": [
    {
     "name": "stdout",
     "output_type": "stream",
     "text": [
      "      Imię  Wiek    Miasto\n",
      "0     Anna    25  Warszawa\n",
      "1  Bartosz    30    Kraków\n",
      "2   Celina    22    Poznań\n",
      "3   Robert    34  Szczecin\n",
      "4  Klaudia    35  Warszawa\n",
      "5    Pawel    36    Gdańsk\n",
      "6   Wojtek    44  Warszawa\n"
     ]
    }
   ],
   "source": [
    "import pandas as pd\n",
    "\n",
    "# DataFrame\n",
    "\n",
    "dane = {\n",
    "    'Imię': ['Anna', 'Bartosz', 'Celina', 'Robert', 'Klaudia', 'Pawel', 'Wojtek'],\n",
    "    'Wiek': [25, 30, 22, 34, 35, 36, 44],\n",
    "    'Miasto': ['Warszawa', 'Kraków', 'Poznań', 'Szczecin', 'Warszawa', 'Gdańsk', 'Warszawa']\n",
    "}\n",
    "df = pd.DataFrame(dane)\n",
    "print(df)"
   ]
  },
  {
   "cell_type": "code",
   "execution_count": 31,
   "metadata": {},
   "outputs": [
    {
     "name": "stdout",
     "output_type": "stream",
     "text": [
      "Bartosz\n"
     ]
    }
   ],
   "source": [
    "# Wybór wiersza o etykiecie 1 i kolumny 'Imię'\n",
    "print(df.loc[1, 'Imię'])"
   ]
  },
  {
   "cell_type": "code",
   "execution_count": 32,
   "metadata": {},
   "outputs": [
    {
     "name": "stdout",
     "output_type": "stream",
     "text": [
      "25\n"
     ]
    }
   ],
   "source": [
    "# Wybór pierwszego wiersza i drugiej kolumny (indeks 1)\n",
    "print(df.iloc[0, 1])"
   ]
  },
  {
   "cell_type": "markdown",
   "metadata": {},
   "source": [
    "#### Filtrowanie"
   ]
  },
  {
   "cell_type": "code",
   "execution_count": 33,
   "metadata": {},
   "outputs": [
    {
     "name": "stdout",
     "output_type": "stream",
     "text": [
      "      Imię  Wiek    Miasto\n",
      "3   Robert    34  Szczecin\n",
      "4  Klaudia    35  Warszawa\n",
      "5    Pawel    36    Gdańsk\n",
      "6   Wojtek    44  Warszawa\n"
     ]
    }
   ],
   "source": [
    "# Wybór osób starszych niż 30 lat\n",
    "powyzej_30_lat = df[df['Wiek'] > 30]\n",
    "print(powyzej_30_lat)"
   ]
  },
  {
   "cell_type": "code",
   "execution_count": 34,
   "metadata": {},
   "outputs": [
    {
     "name": "stdout",
     "output_type": "stream",
     "text": [
      "      Imię  Wiek    Miasto\n",
      "3   Robert    34  Szczecin\n",
      "4  Klaudia    35  Warszawa\n",
      "5    Pawel    36    Gdańsk\n",
      "6   Wojtek    44  Warszawa\n"
     ]
    }
   ],
   "source": [
    "# Sortowanie po wieku\n",
    "print(powyzej_30_lat.sort_values('Wiek'))"
   ]
  },
  {
   "cell_type": "code",
   "execution_count": 35,
   "metadata": {},
   "outputs": [
    {
     "name": "stdout",
     "output_type": "stream",
     "text": [
      "      Imię  Wiek    Miasto\n",
      "4  Klaudia    35  Warszawa\n",
      "6   Wojtek    44  Warszawa\n"
     ]
    }
   ],
   "source": [
    "# Wybór osób starszych niż 25 lat i mieszkających w Warszawie\n",
    "powyzej_25_Warszawa = df[(df['Wiek'] > 25) & (df['Miasto'] == 'Warszawa')]\n",
    "print(powyzej_25_Warszawa)"
   ]
  },
  {
   "cell_type": "code",
   "execution_count": 36,
   "metadata": {},
   "outputs": [
    {
     "name": "stdout",
     "output_type": "stream",
     "text": [
      "      Imię  Wiek\n",
      "0     Anna    25\n",
      "1  Bartosz    30\n",
      "2   Celina    22\n",
      "3   Robert    34\n",
      "4  Klaudia    35\n",
      "5    Pawel    36\n",
      "6   Wojtek    44\n"
     ]
    }
   ],
   "source": [
    "wybrane_kolumny = df[['Imię', 'Wiek']]\n",
    "print(wybrane_kolumny)"
   ]
  },
  {
   "cell_type": "markdown",
   "metadata": {},
   "source": [
    "### Łączenie DataFrame'ów"
   ]
  },
  {
   "cell_type": "code",
   "execution_count": 37,
   "metadata": {},
   "outputs": [
    {
     "name": "stdout",
     "output_type": "stream",
     "text": [
      "   Id     Imię  Wiek\n",
      "0   1     Anna    25\n",
      "1   2  Bartosz    30\n",
      "2   3   Celina    22\n"
     ]
    }
   ],
   "source": [
    "import pandas as pd\n",
    "\n",
    "# Łączenie dwóch zbiorów na po wybranym polu 'Id'\n",
    "\n",
    "df1 = pd.DataFrame({\n",
    "    'Id': [1, 2, 3],\n",
    "    'Imię': ['Anna', 'Bartosz', 'Celina']\n",
    "})\n",
    "\n",
    "df2 = pd.DataFrame({\n",
    "    'Id': [1, 2, 3],\n",
    "    'Wiek': [25, 30, 22]\n",
    "})\n",
    "df_polaczone = pd.merge(df1, df2, on='Id')\n",
    "print(df_polaczone)"
   ]
  },
  {
   "cell_type": "code",
   "execution_count": 38,
   "metadata": {},
   "outputs": [
    {
     "name": "stdout",
     "output_type": "stream",
     "text": [
      "      Imię  Wiek\n",
      "0     Anna    23\n",
      "1  Bartosz    33\n",
      "2   Celina    32\n",
      "0   Robert    30\n",
      "1  Klaudia    27\n",
      "2   Maciej    34\n"
     ]
    }
   ],
   "source": [
    "import pandas as pd\n",
    "\n",
    "# Konkatenacja dwóch zbiorów\n",
    "\n",
    "df1 = pd.DataFrame({\n",
    "    'Imię': ['Anna', 'Bartosz', 'Celina'],\n",
    "    'Wiek': [23, 33, 32]\n",
    "})\n",
    "\n",
    "df2 = pd.DataFrame({\n",
    "    'Imię': ['Robert', 'Klaudia', 'Maciej'],\n",
    "    'Wiek': [30, 27, 34]\n",
    "})\n",
    "\n",
    "df_polaczone_join = pd.concat([df1, df2], axis=0)\n",
    "print(df_polaczone_join)"
   ]
  },
  {
   "cell_type": "markdown",
   "metadata": {},
   "source": [
    "### Jak załadować dane z plików CSV / xlsx?"
   ]
  },
  {
   "cell_type": "code",
   "execution_count": 3,
   "metadata": {},
   "outputs": [],
   "source": [
    "import pandas as pd\n",
    "\n",
    "# Odczyt danych z pliku CSV (ang. Comma-Separated Values)\n",
    "df = pd.read_csv('dane.csv')\n",
    "\n",
    "# Odczyt danych z pliku Excel (xlsx)\n",
    "# df_excel = pd.read_excel('dane.xlsx')"
   ]
  },
  {
   "cell_type": "markdown",
   "metadata": {},
   "source": [
    "### Podstawowe metryki"
   ]
  },
  {
   "cell_type": "code",
   "execution_count": 4,
   "metadata": {},
   "outputs": [
    {
     "name": "stdout",
     "output_type": "stream",
     "text": [
      "<class 'pandas.core.frame.DataFrame'>\n",
      "RangeIndex: 12 entries, 0 to 11\n",
      "Data columns (total 4 columns):\n",
      " #   Column  Non-Null Count  Dtype  \n",
      "---  ------  --------------  -----  \n",
      " 0   ID      12 non-null     int64  \n",
      " 1   Imię    12 non-null     object \n",
      " 2   Wiek    10 non-null     float64\n",
      " 3   Miasto  9 non-null      object \n",
      "dtypes: float64(1), int64(1), object(2)\n",
      "memory usage: 516.0+ bytes\n",
      "None\n"
     ]
    }
   ],
   "source": [
    "# Wyświetlenie podstawowych informacji o DataFrame\n",
    "print(df.info())"
   ]
  },
  {
   "cell_type": "code",
   "execution_count": 5,
   "metadata": {},
   "outputs": [
    {
     "name": "stdout",
     "output_type": "stream",
     "text": [
      "              ID       Wiek\n",
      "count  12.000000  10.000000\n",
      "mean    6.500000  30.400000\n",
      "std     3.605551   7.089899\n",
      "min     1.000000  22.000000\n",
      "25%     3.750000  25.500000\n",
      "50%     6.500000  29.000000\n",
      "75%     9.250000  34.000000\n",
      "max    12.000000  44.000000\n"
     ]
    }
   ],
   "source": [
    "print(df.describe())"
   ]
  },
  {
   "cell_type": "code",
   "execution_count": null,
   "metadata": {},
   "outputs": [],
   "source": [
    "# Obliczenie macierzy korelacji\n",
    "print(df.corr())"
   ]
  },
  {
   "cell_type": "markdown",
   "metadata": {},
   "source": [
    "### Obsługa brakujących danych"
   ]
  },
  {
   "cell_type": "code",
   "execution_count": 7,
   "metadata": {},
   "outputs": [
    {
     "name": "stdout",
     "output_type": "stream",
     "text": [
      "ID        0\n",
      "Imię      0\n",
      "Wiek      2\n",
      "Miasto    3\n",
      "dtype: int64\n"
     ]
    }
   ],
   "source": [
    "# Sprawdzanie braków\n",
    "print(df.isnull().sum())"
   ]
  },
  {
   "cell_type": "code",
   "execution_count": 8,
   "metadata": {},
   "outputs": [
    {
     "name": "stdout",
     "output_type": "stream",
     "text": [
      "    ID      Imię  Wiek    Miasto\n",
      "0    1      Anna  25.0  Warszawa\n",
      "1    2   Bartosz  -1.0    Kraków\n",
      "2    3    Celina  22.0  Nieznane\n",
      "3    4     Darek  28.0    Poznań\n",
      "4    5       Ewa  30.0    Gdańsk\n",
      "5    6     Filip  -1.0  Nieznane\n",
      "6    7   Grażyna  27.0      Łódź\n",
      "7    8    Hubert  35.0   Wrocław\n",
      "8    9     Iwona  23.0  Nieznane\n",
      "9   10     Józef  31.0    Lublin\n",
      "10  11     Marek  44.0  Warszawa\n",
      "11  12  Wojciech  39.0  Warszawa\n"
     ]
    }
   ],
   "source": [
    "# Wypełnianie braków\n",
    "\n",
    "df_filled = df.fillna({'Wiek': -1, 'Miasto': 'Nieznane'})\n",
    "print(df_filled)"
   ]
  },
  {
   "cell_type": "code",
   "execution_count": 9,
   "metadata": {},
   "outputs": [
    {
     "name": "stdout",
     "output_type": "stream",
     "text": [
      "Miasto\n",
      "Warszawa    3\n",
      "Kraków      1\n",
      "Poznań      1\n",
      "Gdańsk      1\n",
      "Łódź        1\n",
      "Wrocław     1\n",
      "Lublin      1\n",
      "Name: count, dtype: int64\n"
     ]
    }
   ],
   "source": [
    "# Wyświetlenie częstości występowania poszczególnych miast\n",
    "print(df['Miasto'].value_counts())"
   ]
  },
  {
   "cell_type": "code",
   "execution_count": null,
   "metadata": {},
   "outputs": [
    {
     "name": "stdout",
     "output_type": "stream",
     "text": [
      "0     25.000000\n",
      "1     18.677975\n",
      "2     22.000000\n",
      "3     28.000000\n",
      "4     30.000000\n",
      "5     25.826203\n",
      "6     27.000000\n",
      "7     35.000000\n",
      "8     23.000000\n",
      "9     31.000000\n",
      "10    44.000000\n",
      "11    39.000000\n",
      "Name: Wiek, dtype: float64\n"
     ]
    }
   ],
   "source": [
    "# Funkcja interpolacji wymaga moduły scipy\n",
    "# %pip install scipy\n",
    "\n",
    "interpolated = df['Wiek'].interpolate(method='polynomial', order=3)\n",
    "print(interpolated)"
   ]
  },
  {
   "cell_type": "code",
   "execution_count": 11,
   "metadata": {},
   "outputs": [
    {
     "name": "stdout",
     "output_type": "stream",
     "text": [
      "    ID      Imię  Wiek\n",
      "10  11     Marek  44.0\n",
      "11  12  Wojciech  39.0\n"
     ]
    }
   ],
   "source": [
    "# Wybór osób starszych niż 25 lat i mieszkających w Warszawie\n",
    "powyzej_25_Warszawa = df[(df['Wiek'] > 25) & (df['Miasto'] == 'Warszawa')]\n",
    "print(powyzej_25_Warszawa[['ID', 'Imię', 'Wiek']])"
   ]
  }
 ],
 "metadata": {
  "kernelspec": {
   "display_name": ".env",
   "language": "python",
   "name": "python3"
  },
  "language_info": {
   "codemirror_mode": {
    "name": "ipython",
    "version": 3
   },
   "file_extension": ".py",
   "mimetype": "text/x-python",
   "name": "python",
   "nbconvert_exporter": "python",
   "pygments_lexer": "ipython3",
   "version": "3.12.3"
  }
 },
 "nbformat": 4,
 "nbformat_minor": 2
}
